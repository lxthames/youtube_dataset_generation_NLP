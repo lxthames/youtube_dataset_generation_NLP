{
  "cells": [
    {
      "cell_type": "markdown",
      "metadata": {
        "id": "view-in-github",
        "colab_type": "text"
      },
      "source": [
        "<a href=\"https://colab.research.google.com/github/lxthames/youtube_dataset_generation_NLP/blob/main/Copy_of_youtube_dataset_generation.ipynb\" target=\"_parent\"><img src=\"https://colab.research.google.com/assets/colab-badge.svg\" alt=\"Open In Colab\"/></a>"
      ]
    },
    {
      "cell_type": "code",
      "execution_count": null,
      "metadata": {
        "id": "kdWc4bowes-z"
      },
      "outputs": [],
      "source": [
        "API_KEY = \"#paste your api key\"\n",
        "\n",
        "# Set the path to your OAuth2 credentials JSON file\n",
        "OAUTH2_CREDS_JSON = \"Path/to/file\""
      ]
    },
    {
      "cell_type": "markdown",
      "source": [
        "**this one work**"
      ],
      "metadata": {
        "id": "Pcd6TJovqR4B"
      }
    },
    {
      "cell_type": "code",
      "execution_count": null,
      "metadata": {
        "id": "jouzNeTt5-7g"
      },
      "outputs": [],
      "source": [
        "import csv\n",
        "import googleapiclient.discovery\n",
        "from google.oauth2 import service_account\n",
        "\n",
        "# Set your API key\n",
        "# API_KEY = \"YOUR_API_KEY\"\n",
        "\n",
        "# # Set the path to your OAuth2 credentials JSON file\n",
        "# OAUTH2_CREDS_JSON = \"path/to/credentials.json\"\n",
        "\n",
        "# Create credentials object from the JSON file\n",
        "credentials = service_account.Credentials.from_service_account_file(\n",
        "    OAUTH2_CREDS_JSON,\n",
        "    scopes=[\"https://www.googleapis.com/auth/youtube.force-ssl\"]\n",
        ")\n",
        "\n",
        "# Create a YouTube API client with the authenticated credentials\n",
        "youtube = googleapiclient.discovery.build(\"youtube\", \"v3\", credentials=credentials)\n",
        "\n",
        "# Define the search parameters\n",
        "search_query = \"Computer Programming\"\n",
        "max_results = 50\n",
        "\n",
        "# Create a CSV file to save the video details\n",
        "csv_file = open(\"videos.csv\", \"w\", newline=\"\", encoding=\"utf-8\")\n",
        "csv_writer = csv.writer(csv_file)\n",
        "csv_writer.writerow([\"Video ID\", \"Video Title\", \"Video Description\", \"Video Views\",\"publish_time \",\"channel_title \",\"liveBroadcast_content\",\"Like_count\",\"favourite_count\", \"comment_count\",\"subscriber_count\",\"video_count\",\"Category\"])\n",
        "\n",
        "# Initialize variables for pagination\n",
        "next_page_token = None\n",
        "total_results = 0\n",
        "i = 0\n",
        "# Process multiple pages of results\n",
        "while True:\n",
        "    # Make the search request with the pageToken\n",
        "    search_response = youtube.search().list(\n",
        "       q=search_query,\n",
        "       type=\"video\",\n",
        "       part=\"id,snippet\",\n",
        "       maxResults=max_results,\n",
        "       publishedAfter = \"2018-01-01T00:00:00Z\",\n",
        "       topicId=\"/m/01k8wb\",\n",
        "       order=\"viewCount\",\n",
        "      # videoCategoryId=\"20\",  # Gaming category\n",
        "       relevanceLanguage=\"en\" \n",
        "    ).execute()\n",
        "\n",
        "    # Process the search results\n",
        "    for search_result in search_response.get(\"items\", []):\n",
        "        video_id = search_result[\"id\"][\"videoId\"]\n",
        "        channel_Id = search_result[\"snippet\"][\"channelId\"]\n",
        "        video_title = search_result[\"snippet\"][\"title\"]\n",
        "        video_description = search_result[\"snippet\"][\"description\"]\n",
        "        #video_category = search_result[\"snippet\"][\"categoryId\"]\n",
        "        publish_time = search_result[\"snippet\"][\"publishTime\"]\n",
        "        channel_title = search_result[\"snippet\"][\"channelTitle\"]\n",
        "        liveBroadcast_content= search_result[\"snippet\"][\"liveBroadcastContent\"]\n",
        "        \n",
        "\n",
        "        # Get video statistics using videos().list method\n",
        "        video_response = youtube.videos().list(\n",
        "            part=\"statistics\",\n",
        "            id=video_id\n",
        "        ).execute()\n",
        "\n",
        "        channel_response = youtube.channels().list(\n",
        "            part=\"statistics\",\n",
        "            id=channel_Id\n",
        "            ).execute()\n",
        "\n",
        "        # request_caption = youtube.captions().list(\n",
        "        #     part=\"snippet\",\n",
        "        #     videoId=video_id\n",
        "        # ).execute()\n",
        "        \n",
        "        # video_caption =  request_caption[\"items\"]\n",
        "      \n",
        "\n",
        "# Make the API request to get the channel details\n",
        "        \n",
        "\n",
        "\n",
        "        # Retrieve the view count from the video statistics\n",
        "        subscriber_count = int(channel_response[\"items\"][0][\"statistics\"][\"subscriberCount\"])\n",
        "        video_count = int(channel_response[\"items\"][0][\"statistics\"][\"videoCount\"])\n",
        "        video_statistics = video_response[\"items\"][0][\"statistics\"]\n",
        "        video_views = int(video_statistics.get(\"viewCount\", 0))  # Use get() method with a default value\n",
        "        like_count = int(video_statistics.get(\"likeCount\", 0))\n",
        "        favorite_count = int(video_statistics.get(\"favoriteCount\", 0))\n",
        "        comment_count = int(video_statistics.get(\"commentCount\", 0))\n",
        "        \n",
        "        if video_views >= 10000:\n",
        "            # Write the video details to the CSV file\n",
        "            csv_writer.writerow([video_id, video_title, video_description, video_views, publish_time,channel_title, liveBroadcast_content,like_count, favorite_count,comment_count,subscriber_count,video_count,search_query])\n",
        "            total_results += 1\n",
        "\n",
        "    # Check if there are more pages of results\n",
        "    #i = i +1\n",
        "    next_page_token = search_response.get(\"nextPageToken\")\n",
        "    if not next_page_token:\n",
        "        break\n",
        "\n",
        "# Close the CSV file\n",
        "csv_file.close()\n",
        "\n",
        "print(f\"Total results: {total_results}\")\n"
      ]
    },
    {
      "cell_type": "markdown",
      "source": [
        "**this one work**"
      ],
      "metadata": {
        "id": "DhTjQ7jBqWPs"
      }
    },
    {
      "cell_type": "code",
      "execution_count": null,
      "metadata": {
        "colab": {
          "base_uri": "https://localhost:8080/"
        },
        "id": "McXaYnKkAZna",
        "outputId": "4861a385-a8a9-4e79-d83c-5a63a62f1c9f"
      },
      "outputs": [
        {
          "output_type": "stream",
          "name": "stdout",
          "text": [
            "Looking in indexes: https://pypi.org/simple, https://us-python.pkg.dev/colab-wheels/public/simple/\n",
            "Collecting youtube-transcript-api\n",
            "  Downloading youtube_transcript_api-0.6.0-py3-none-any.whl (23 kB)\n",
            "Requirement already satisfied: requests in /usr/local/lib/python3.10/dist-packages (from youtube-transcript-api) (2.27.1)\n",
            "Requirement already satisfied: urllib3<1.27,>=1.21.1 in /usr/local/lib/python3.10/dist-packages (from requests->youtube-transcript-api) (1.26.15)\n",
            "Requirement already satisfied: certifi>=2017.4.17 in /usr/local/lib/python3.10/dist-packages (from requests->youtube-transcript-api) (2022.12.7)\n",
            "Requirement already satisfied: charset-normalizer~=2.0.0 in /usr/local/lib/python3.10/dist-packages (from requests->youtube-transcript-api) (2.0.12)\n",
            "Requirement already satisfied: idna<4,>=2.5 in /usr/local/lib/python3.10/dist-packages (from requests->youtube-transcript-api) (3.4)\n",
            "Installing collected packages: youtube-transcript-api\n",
            "Successfully installed youtube-transcript-api-0.6.0\n"
          ]
        }
      ],
      "source": [
        "!pip3 install youtube-transcript-api"
      ]
    },
    {
      "cell_type": "code",
      "execution_count": null,
      "metadata": {
        "id": "67alwbn1AM5M"
      },
      "outputs": [],
      "source": [
        "# importing modules\n",
        "from youtube_transcript_api import YouTubeTranscriptApi\n",
        "\n",
        "# using the srt variable with the list of dictionaries\n",
        "# obtained by the .get_transcript() function\n",
        "srt = YouTubeTranscriptApi.get_transcript(\"QaFKukn0a6g\")\n",
        "\n",
        "# creating or overwriting a file \"subtitles.txt\" with\n",
        "# the info inside the context manager\n",
        "with open(\"subtitles3.txt\", \"w\") as f:\n",
        "\n",
        "\t\t# iterating through each element of list srt\n",
        "\tfor i in srt:\n",
        "\t\t# writing each element of srt on a new line\n",
        "\t\tf.write(\"{}\\n\".format(i))\n"
      ]
    },
    {
      "cell_type": "code",
      "execution_count": null,
      "metadata": {
        "colab": {
          "base_uri": "https://localhost:8080/"
        },
        "id": "jPmVT2ZjG5Vb",
        "outputId": "883fc3d2-e28c-4f61-fa47-984606cb114f"
      },
      "outputs": [
        {
          "data": {
            "text/plain": [
              "{'kind': 'youtube#searchResult',\n",
              " 'etag': 'T-1fkRan3PuJysi2ShTt_OXkm70',\n",
              " 'id': {'kind': 'youtube#video', 'videoId': 'ElCTVmBQA8Q'},\n",
              " 'snippet': {'publishedAt': '2021-04-14T20:05:53Z',\n",
              "  'channelId': 'UCemhZ2At2lgifTJLClGCz9A',\n",
              "  'title': 'Ferran PROPOSED To a Girl in Roblox Brookhaven!! | Royalty Gaming',\n",
              "  'description': 'Ferran PROPOSED To a Girl in Roblox Brookhaven! SUBSCRIBE HERE http://bit.ly/royaltygaming SUBSCRIBE ...',\n",
              "  'thumbnails': {'default': {'url': 'https://i.ytimg.com/vi/ElCTVmBQA8Q/default.jpg',\n",
              "    'width': 120,\n",
              "    'height': 90},\n",
              "   'medium': {'url': 'https://i.ytimg.com/vi/ElCTVmBQA8Q/mqdefault.jpg',\n",
              "    'width': 320,\n",
              "    'height': 180},\n",
              "   'high': {'url': 'https://i.ytimg.com/vi/ElCTVmBQA8Q/hqdefault.jpg',\n",
              "    'width': 480,\n",
              "    'height': 360}},\n",
              "  'channelTitle': 'Royalty Gaming',\n",
              "  'liveBroadcastContent': 'none',\n",
              "  'publishTime': '2021-04-14T20:05:53Z'}}"
            ]
          },
          "execution_count": 41,
          "metadata": {},
          "output_type": "execute_result"
        }
      ],
      "source": [
        "search_result"
      ]
    },
    {
      "cell_type": "code",
      "execution_count": null,
      "metadata": {
        "colab": {
          "base_uri": "https://localhost:8080/"
        },
        "id": "xSeHuckgHlWh",
        "outputId": "964dd622-bc93-4d78-f095-d48292c55e09"
      },
      "outputs": [
        {
          "name": "stdout",
          "output_type": "stream",
          "text": [
            "8575170\n",
            "107352\n",
            "0\n",
            "3911\n"
          ]
        }
      ],
      "source": [
        "print(video_response[\"items\"][0][\"statistics\"]['viewCount'])\n",
        "print(video_response[\"items\"][0][\"statistics\"]['likeCount'])\n",
        "print(video_response[\"items\"][0][\"statistics\"]['favoriteCount'])\n",
        "print(video_response[\"items\"][0][\"statistics\"]['commentCount'])"
      ]
    },
    {
      "cell_type": "code",
      "execution_count": null,
      "metadata": {
        "colab": {
          "base_uri": "https://localhost:8080/"
        },
        "id": "No5jb9pbJZ4m",
        "outputId": "a80af9c3-bb4a-4581-b634-708da454248f"
      },
      "outputs": [
        {
          "data": {
            "text/plain": [
              "{'kind': 'youtube#channelListResponse',\n",
              " 'etag': 'RuuXzTIr0OoDqI4S0RU6n4FqKEM',\n",
              " 'pageInfo': {'totalResults': 0, 'resultsPerPage': 5}}"
            ]
          },
          "execution_count": 9,
          "metadata": {},
          "output_type": "execute_result"
        }
      ],
      "source": [
        "channel_response"
      ]
    },
    {
      "cell_type": "code",
      "execution_count": null,
      "metadata": {
        "colab": {
          "base_uri": "https://localhost:8080/"
        },
        "id": "tKuPQMrGmte1",
        "outputId": "384f1255-0cdf-4ff0-e01e-05a6dfe451a5"
      },
      "outputs": [
        {
          "data": {
            "text/plain": [
              "{'kind': 'youtube#channelListResponse',\n",
              " 'etag': 'nK8cC21RnbA0ZhNGzu_r6XeZ1GA',\n",
              " 'pageInfo': {'totalResults': 1, 'resultsPerPage': 5},\n",
              " 'items': [{'kind': 'youtube#channel',\n",
              "   'etag': 'OOFAZLk2FiAovNxhlHTQKcWBPgY',\n",
              "   'id': 'UCIPPMRA040LQr5QPyJEbmXA',\n",
              "   'statistics': {'viewCount': '5747866677',\n",
              "    'subscriberCount': '32700000',\n",
              "    'hiddenSubscriberCount': False,\n",
              "    'videoCount': '139'}}]}"
            ]
          },
          "execution_count": 14,
          "metadata": {},
          "output_type": "execute_result"
        }
      ],
      "source": [
        "channel_response"
      ]
    },
    {
      "cell_type": "markdown",
      "source": [
        "**Goolge provides limited tokens. Therefore, using youtube_transcript_api for subtitles generation**"
      ],
      "metadata": {
        "id": "nXWO-ld99u_d"
      }
    },
    {
      "cell_type": "code",
      "execution_count": null,
      "metadata": {
        "id": "pTPHD_WZV221"
      },
      "outputs": [],
      "source": [
        "from youtube_transcript_api import YouTubeTranscriptApi\n",
        "\n",
        "for index, row in df.iterrows():\n",
        "    try:\n",
        "        transcript = YouTubeTranscriptApi.get_transcript(df[\"Video ID\"][index], languages=['en-US', 'en', 'es'])\n",
        "        if transcript:\n",
        "            utterances = [p['text'] for p in transcript]\n",
        "            df.at[index, 'Subtitles'] = ' '.join(utterances)\n",
        "            utterances = []\n",
        "        else:\n",
        "            df.at[index, 'Subtitles'] = \"Not available\"\n",
        "    except Exception as e:\n",
        "        df.at[index, 'Subtitles'] = \"Not available\""
      ]
    },
    {
      "cell_type": "code",
      "source": [],
      "metadata": {
        "id": "1ILjf1MDIDim"
      },
      "execution_count": null,
      "outputs": []
    }
  ],
  "metadata": {
    "colab": {
      "provenance": [],
      "mount_file_id": "1Hw0YQg2u6kG-YyzznkS_E5YVTDQnY84d",
      "authorship_tag": "ABX9TyOqUjxYqtqIzf3JsXPctjDW",
      "include_colab_link": true
    },
    "kernelspec": {
      "display_name": "Python 3",
      "name": "python3"
    },
    "language_info": {
      "name": "python"
    }
  },
  "nbformat": 4,
  "nbformat_minor": 0
}